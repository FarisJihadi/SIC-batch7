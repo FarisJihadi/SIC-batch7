{
  "nbformat": 4,
  "nbformat_minor": 0,
  "metadata": {
    "colab": {
      "provenance": [],
      "authorship_tag": "ABX9TyP+dgCgLNuW48J/qh+fo7Sf",
      "include_colab_link": true
    },
    "kernelspec": {
      "name": "python3",
      "display_name": "Python 3"
    },
    "language_info": {
      "name": "python"
    }
  },
  "cells": [
    {
      "cell_type": "markdown",
      "metadata": {
        "id": "view-in-github",
        "colab_type": "text"
      },
      "source": [
        "<a href=\"https://colab.research.google.com/github/FarisJihadi/SIC-batch7/blob/main/Exercise_W-1_D-1.ipynb\" target=\"_parent\"><img src=\"https://colab.research.google.com/assets/colab-badge.svg\" alt=\"Open In Colab\"/></a>"
      ]
    },
    {
      "cell_type": "code",
      "execution_count": null,
      "metadata": {
        "id": "77vaFbvWZffG"
      },
      "outputs": [],
      "source": [
        "# Tugas Praktik: Analisis Sederhana Coffee Shop\n",
        "# Setiap bagian kode di bawah ini sesuai dengan tugas yang diberikan."
      ]
    },
    {
      "cell_type": "code",
      "source": [
        "# ===================================================================\n",
        "# 1. Mencetak Informasi Sederhana\n",
        "# ==================================================================="
      ],
      "metadata": {
        "id": "ZAiZe0ZPaI9e"
      },
      "execution_count": null,
      "outputs": []
    },
    {
      "cell_type": "code",
      "source": [
        "# Mencetak pesan selamat datang ke layar.\n",
        "print(\"Selamat Datang di Analisis Data Coffee Shop!\")"
      ],
      "metadata": {
        "colab": {
          "base_uri": "https://localhost:8080/"
        },
        "id": "sjrSpHvFaLm7",
        "outputId": "2fa726ea-fb90-49e3-e6da-3e625e338a1c"
      },
      "execution_count": null,
      "outputs": [
        {
          "output_type": "stream",
          "name": "stdout",
          "text": [
            "Selamat Datang di Analisis Data Coffee Shop!\n"
          ]
        }
      ]
    },
    {
      "cell_type": "code",
      "source": [
        "# Mencetak nama produk favorit saya dari coffe shop.\n",
        "print(\"Produk favorit: Caramel Macchiato\")"
      ],
      "metadata": {
        "colab": {
          "base_uri": "https://localhost:8080/"
        },
        "id": "esJskad6aOGm",
        "outputId": "035acc19-af6c-4436-ff59-923c6009e86c"
      },
      "execution_count": null,
      "outputs": [
        {
          "output_type": "stream",
          "name": "stdout",
          "text": [
            "Produk favorit: Caramel Macchiato\n"
          ]
        }
      ]
    },
    {
      "cell_type": "code",
      "source": [
        "# Mencetak total penjualan harian sebagai sebuah angka.\n",
        "print(1500000)"
      ],
      "metadata": {
        "colab": {
          "base_uri": "https://localhost:8080/"
        },
        "id": "epD0dXYIauIZ",
        "outputId": "5a8fc0e5-a96a-4a95-962e-62fb1726b28e"
      },
      "execution_count": null,
      "outputs": [
        {
          "output_type": "stream",
          "name": "stdout",
          "text": [
            "1500000\n"
          ]
        }
      ]
    },
    {
      "cell_type": "code",
      "source": [
        "# ===================================================================\n",
        "# 2. Mencetak dengan Gaya yang Berbeda\n",
        "# ==================================================================="
      ],
      "metadata": {
        "id": "ngudIfWTbFzV"
      },
      "execution_count": null,
      "outputs": []
    },
    {
      "cell_type": "code",
      "source": [
        "# Mencetak beberapa item dalam satu baris, menggunakan koma sebagai pemisah.\n",
        "# Parameter 'sep' (separator) menentukan karakter apa yang diletakkan di antara item.\n",
        "print(\"Kopi\", \"Donat\", \"Croissant\", sep=\", \")"
      ],
      "metadata": {
        "colab": {
          "base_uri": "https://localhost:8080/"
        },
        "id": "tHgyzUE3bJDP",
        "outputId": "8aeb6b24-7cea-484a-ba25-285f4574df43"
      },
      "execution_count": null,
      "outputs": [
        {
          "output_type": "stream",
          "name": "stdout",
          "text": [
            "Kopi, Donat, Croissant\n"
          ]
        }
      ]
    },
    {
      "cell_type": "code",
      "source": [
        "# Mencetak dua kalimat di baris yang sama.\n",
        "# Parameter 'end' menggantikan karakter baris baru default (\\n) dengan string lain.\n",
        "# Di sini, kita menggantinya dengan spasi agar cetakan berikutnya menyambung.\n",
        "print(\"Laporan penjualan\", end=\" \")\n",
        "print(\"sudah selesai.\")"
      ],
      "metadata": {
        "colab": {
          "base_uri": "https://localhost:8080/"
        },
        "id": "vyil0Kqqbob7",
        "outputId": "13e05d3b-a4eb-41bf-bcf6-2ac5afe259f3"
      },
      "execution_count": null,
      "outputs": [
        {
          "output_type": "stream",
          "name": "stdout",
          "text": [
            "Laporan penjualan sudah selesai.\n"
          ]
        }
      ]
    },
    {
      "cell_type": "code",
      "source": [
        "# ===================================================================\n",
        "# 3. Membuat Struktur Kode dengan Indentasi\n",
        "# ==================================================================="
      ],
      "metadata": {
        "id": "OXJxiyPobtaC"
      },
      "execution_count": null,
      "outputs": []
    },
    {
      "cell_type": "code",
      "source": [
        "# Membuat sebuah if statement yang kondisinya selalu benar (True).\n",
        "if 5000 > 1000:\n",
        "  # Baris ini diindentasi (diberi 4 spasi) untuk menandakan bahwa ia ada di dalam blok if.\n",
        "  print(\"Kondisi terpenuhi.\") # Output ini muncul karena 5000 memang lebih besar dari 1000.\n",
        "\n",
        "  # Baris ini juga diindentasi dan akan di eksekusi.\n",
        "  print(\"Blok kode ini dijalankan.\") # Output ini juga akan di cetak ke layar."
      ],
      "metadata": {
        "colab": {
          "base_uri": "https://localhost:8080/"
        },
        "id": "WP9mNZ71bwPh",
        "outputId": "44a3db6e-c1e5-4573-b037-2de011d2beef"
      },
      "execution_count": null,
      "outputs": [
        {
          "output_type": "stream",
          "name": "stdout",
          "text": [
            "Kondisi terpenuhi.\n",
            "Blok kode ini dijalankan.\n"
          ]
        }
      ]
    },
    {
      "cell_type": "code",
      "source": [
        "# ===================================================================\n",
        "# 4. Membuat Kesalahan (Belajar dari Error)\n",
        "# ==================================================================="
      ],
      "metadata": {
        "id": "nHPE-2Oncs4m"
      },
      "execution_count": null,
      "outputs": []
    },
    {
      "cell_type": "code",
      "source": [
        "# Baris di bawah ini sengaja dibuat salah dengan menghilangkan tanda kurung penutup.\n",
        "# print(\"Contoh pesan error\""
      ],
      "metadata": {
        "id": "9Td4XVy0cvUL"
      },
      "execution_count": null,
      "outputs": []
    },
    {
      "cell_type": "code",
      "source": [
        "# --- PESAN ERROR YANG MUNCUL SAAT DIJALANKAN ---\n",
        "# File \"<stdin>\", line 1\n",
        "#   print(\"Contoh pesan error\"\n",
        "#        ^\n",
        "# SyntaxError: unexpected EOF while parsing\n",
        "# ------------------------------------------------"
      ],
      "metadata": {
        "id": "ExFJdHpxczVO"
      },
      "execution_count": null,
      "outputs": []
    },
    {
      "cell_type": "code",
      "source": [
        "# Penjelasan Error:\n",
        "# 'SyntaxError' berarti ada kesalahan dalam penulisan sintaks atau aturan bahasa Python.\n",
        "# 'unexpected EOF while parsing' (End of File) terjadi karena Python mencapai akhir\n",
        "# kode saat masih mengharapkan sesuatu, dalam kasus ini adalah tanda kurung tutup ')'."
      ],
      "metadata": {
        "id": "65PxrsuGc0Q2"
      },
      "execution_count": null,
      "outputs": []
    },
    {
      "cell_type": "code",
      "source": [
        "# ===================================================================\n",
        "# 5. Menggunakan Komentar & Keterbacaan\n",
        "# ==================================================================="
      ],
      "metadata": {
        "id": "2ORYUHqec4Xv"
      },
      "execution_count": null,
      "outputs": []
    },
    {
      "cell_type": "code",
      "source": [
        "####################################\n",
        "# Laporan Penjualan Produk         #\n",
        "####################################"
      ],
      "metadata": {
        "id": "_KLSWDUSc7Gl"
      },
      "execution_count": null,
      "outputs": []
    },
    {
      "cell_type": "code",
      "source": [
        "# Kode di bawah ini mencetak laporan sederhana dengan format yang rapi.\n",
        "# Spasi yang konsisten membuat kode lebih mudah dibaca dan dipahami."
      ],
      "metadata": {
        "id": "R5PtnfzQc9sm"
      },
      "execution_count": null,
      "outputs": []
    },
    {
      "cell_type": "code",
      "source": [
        "# Mencetak detail produk pertama.\n",
        "print(\"Nama Produk: Kopi Americano, Harga: 25000\")"
      ],
      "metadata": {
        "colab": {
          "base_uri": "https://localhost:8080/"
        },
        "id": "szIgauZqdARR",
        "outputId": "c17556d6-688e-486d-dccb-1ab0b41bc60b"
      },
      "execution_count": null,
      "outputs": [
        {
          "output_type": "stream",
          "name": "stdout",
          "text": [
            "Nama Produk: Kopi Americano, Harga: 25000\n"
          ]
        }
      ]
    },
    {
      "cell_type": "code",
      "source": [
        "# Mencetak detail produk kedua.\n",
        "print(\"Nama Produk: Roti Cokelat, Harga: 15000\")"
      ],
      "metadata": {
        "colab": {
          "base_uri": "https://localhost:8080/"
        },
        "id": "Pe1mk0z7dH1k",
        "outputId": "47e0b4a4-97ec-4ba3-b709-df2e1bc41b96"
      },
      "execution_count": null,
      "outputs": [
        {
          "output_type": "stream",
          "name": "stdout",
          "text": [
            "Nama Produk: Roti Cokelat, Harga: 15000\n"
          ]
        }
      ]
    }
  ]
}